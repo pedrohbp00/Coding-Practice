{
 "cells": [
  {
   "cell_type": "markdown",
   "metadata": {},
   "source": [
    "## <center>Introduction to Python Programming – Mini Project</center>\n"
   ]
  },
  {
   "cell_type": "markdown",
   "metadata": {},
   "source": [
    "### Problem 1\n",
    "\n",
    "Write a program to calculate area of shapes. Your program should be capable of calculating the area of a square, rectangle, triangle and a circle. The user should be presented with options to select the shape. Based on which shape is chosen by the user, the program should ask for the appropriate input and print the resulting area on the screen.\n",
    "\n",
    "When the program is run, the screen should display something like this:\n",
    "\n",
    "**Which shape would you like to calculate the area for? Please enter the option number-**<br>\n",
    "**1. Square**<br>\n",
    "**2. Rectangle**<br>\n",
    "**3. Triangle**<br>\n",
    "**4. Circle**<br>\n",
    "**Enter Option: _**\n",
    "\n",
    "Say the user enters the option 1.\n",
    "\n",
    "**Please enter the length of a side: _**\n",
    "\n",
    "If the user enters a value of 5. The output should be:\n",
    "\n",
    "**The area of the square is 25**\n",
    "\n",
    "This program should indicate that the input is invalid if the user enters a character instead of a number as input. For instance if the user enters a value of ‘a’ instead of 5 in the previous example the program should prompt:\n",
    "\n",
    "**Invalid input, please enter a number: _**\n"
   ]
  },
  {
   "cell_type": "code",
   "execution_count": null,
   "metadata": {},
   "outputs": [],
   "source": [
    "import math\n",
    "\n",
    "def main():\n",
    "    def squareArea():\n",
    "        print('\\nPlease enter the length of a side: ')\n",
    "        side = int(input())\n",
    "        area = side**2\n",
    "        print('\\nThe area of the square is ', area)\n",
    "\n",
    "    def rectangleArea():\n",
    "        print('\\nPlease enter the length of the base: ')\n",
    "        base = int(input())\n",
    "\n",
    "        print('\\nPlease enter the length of the height: ')\n",
    "        height = int(input())\n",
    "\n",
    "        area = base * height\n",
    "\n",
    "        print('\\nThe area of the rectangle is ', area)\n",
    "\n",
    "    def triangleArea():\n",
    "        print('\\nPlease enter the length of the base: ')\n",
    "        base = int(input())\n",
    "\n",
    "        print('\\nPlease enter the length of the height: ')\n",
    "        height = int(input())\n",
    "\n",
    "        area = (base * height)/2\n",
    "\n",
    "        print('\\nThe area of the triangle is ', area)\n",
    "\n",
    "    def circleArea():\n",
    "        print('\\nPlease enter the length of the radius: ')\n",
    "        radius = int(input())\n",
    "        area = math.pi * radius**radius\n",
    "        print('\\nThe area of the circle is ', area)\n",
    "\n",
    "    def menu():\n",
    "        print('\\nWhich shape would you like to calculate the area for? Please enter the option number: ')\n",
    "        print('\\n1. Square\\n2. Rectangle\\n3. Triangle\\n4. Circle')\n",
    "        print('Enter option: ')\n",
    "    \n",
    "    isRunning = True\n",
    "    option = 0\n",
    "\n",
    "    while isRunning:\n",
    "        menu()\n",
    "        option = int(input())\n",
    "        if option == 1:\n",
    "            squareArea()\n",
    "        elif option == 2:\n",
    "            rectangleArea()\n",
    "        elif option == 3:\n",
    "            triangleArea()\n",
    "        elif option == 4:\n",
    "            circleArea()\n",
    "        else:\n",
    "            print('You quit.')\n",
    "            isRunning = False\n",
    "\n",
    "if __name__ == '__main__':\n",
    "    main()"
   ]
  },
  {
   "cell_type": "markdown",
   "metadata": {},
   "source": [
    "### Problem 2\n",
    "\n",
    "You have newly joined an organization abc.com. Write a python function that will take your 1st and last name as input and print the official mail as which has a format like firstname.lastname@abc.com\n",
    "\n",
    "When the program is run, the screen should display something like this:\n",
    "\n",
    "Enter your first name: nikhil\n",
    "\n",
    "Enter your last name: agrawal\n",
    "\n",
    "You official email id is nikhil.agrawal@abc.com \n",
    "\n",
    "**Hint:** use string concatenation."
   ]
  },
  {
   "cell_type": "code",
   "execution_count": 12,
   "metadata": {},
   "outputs": [
    {
     "name": "stdout",
     "output_type": "stream",
     "text": [
      "Enter your first name: PedRo\n",
      "Enter your last name: Henrique\n",
      "\n",
      "Your official Email ID is: \n",
      "pedro.henrique@abc.com\n"
     ]
    }
   ],
   "source": [
    "class User:\n",
    "    \n",
    "        concatSymbol = '.'\n",
    "        emailTermination = '@abc.com'\n",
    "        \n",
    "        def __init__(self, firstName, lastName):\n",
    "            self.firstName = firstName\n",
    "            self.lastName = lastName\n",
    "            #self.userId = self.firstName + self.concatSymbol + self.lastName + self.emailTermination\n",
    "            \n",
    "        def createId(self):\n",
    "            self.userId = self.firstName.lower() + self.concatSymbol + self.lastName.lower() + self.emailTermination\n",
    "            return self.userId\n",
    "            \n",
    "        def __str__(self):\n",
    "            print('\\nYour official Email ID is: ')\n",
    "            return self.userId\n",
    "        \n",
    "def main():\n",
    "\n",
    "    user1 = User(input('Enter your first name: '), input('Enter your last name: '))\n",
    "    user1.createId()\n",
    "    print(user1)\n",
    "\n",
    "if __name__ == '__main__':\n",
    "    main()"
   ]
  },
  {
   "cell_type": "code",
   "execution_count": null,
   "metadata": {},
   "outputs": [],
   "source": []
  }
 ],
 "metadata": {
  "kernelspec": {
   "display_name": "Python 3 (ipykernel)",
   "language": "python",
   "name": "python3"
  },
  "language_info": {
   "codemirror_mode": {
    "name": "ipython",
    "version": 3
   },
   "file_extension": ".py",
   "mimetype": "text/x-python",
   "name": "python",
   "nbconvert_exporter": "python",
   "pygments_lexer": "ipython3",
   "version": "3.9.7"
  }
 },
 "nbformat": 4,
 "nbformat_minor": 2
}
