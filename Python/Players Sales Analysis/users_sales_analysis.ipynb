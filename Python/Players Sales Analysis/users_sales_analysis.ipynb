{
 "cells": [
  {
   "cell_type": "markdown",
   "metadata": {},
   "source": [
    "# <font color='blue'>Data Science Academy - Python Fundamentos - Capítulo 7</font>\n",
    "\n",
    "## Download: http://github.com/dsacademybr"
   ]
  },
  {
   "cell_type": "code",
   "execution_count": 1,
   "metadata": {},
   "outputs": [
    {
     "name": "stdout",
     "output_type": "stream",
     "text": [
      "Versão da Linguagem Python Usada Neste Jupyter Notebook: 3.9.7\n"
     ]
    }
   ],
   "source": [
    "# Versão da Linguagem Python\n",
    "from platform import python_version\n",
    "print('Versão da Linguagem Python Usada Neste Jupyter Notebook:', python_version())"
   ]
  },
  {
   "cell_type": "markdown",
   "metadata": {},
   "source": [
    "## Missão: Analisar o Comportamento de Compra de Consumidores."
   ]
  },
  {
   "cell_type": "markdown",
   "metadata": {},
   "source": [
    "## Nível de Dificuldade: Alto"
   ]
  },
  {
   "cell_type": "markdown",
   "metadata": {},
   "source": [
    "Você recebeu a tarefa de analisar os dados de compras de um web site! Os dados estão no formato JSON e disponíveis junto com este notebook.\n",
    "\n",
    "No site, cada usuário efetua login usando sua conta pessoal e pode adquirir produtos à medida que navega pela lista de produtos oferecidos. Cada produto possui um valor de venda. Dados de idade e sexo de cada usuário foram coletados e estão fornecidos no arquivo JSON.\n",
    "\n",
    "Seu trabalho é entregar uma análise de comportamento de compra dos consumidores. Esse é um tipo de atividade comum realizado por Cientistas de Dados e o resultado deste trabalho pode ser usado, por exemplo, para alimentar um modelo de Machine Learning e fazer previsões sobre comportamentos futuros.\n",
    "\n",
    "Mas nesta missão você vai analisar o comportamento de compra dos consumidores usando o pacote Pandas da linguagem Python e seu relatório final deve incluir cada um dos seguintes itens:\n",
    "\n",
    "** Contagem de Consumidores **\n",
    "\n",
    "* Número total de consumidores\n",
    "\n",
    "\n",
    "** Análise Geral de Compras **\n",
    "\n",
    "* Número de itens exclusivos\n",
    "* Preço médio de compra\n",
    "* Número total de compras\n",
    "* Rendimento total\n",
    "\n",
    "\n",
    "** Informações Demográficas Por Gênero **\n",
    "\n",
    "* Porcentagem e contagem de compradores masculinos\n",
    "* Porcentagem e contagem de compradores do sexo feminino\n",
    "* Porcentagem e contagem de outros / não divulgados\n",
    "\n",
    "\n",
    "** Análise de Compras Por Gênero **\n",
    "\n",
    "* Número de compras\n",
    "* Preço médio de compra\n",
    "* Valor Total de Compra\n",
    "* Compras for faixa etária\n",
    "\n",
    "\n",
    "** Identifique os 5 principais compradores pelo valor total de compra e, em seguida, liste (em uma tabela): **\n",
    "\n",
    "* Login\n",
    "* Número de compras\n",
    "* Preço médio de compra\n",
    "* Valor Total de Compra\n",
    "* Itens mais populares\n",
    "\n",
    "\n",
    "** Identifique os 5 itens mais populares por contagem de compras e, em seguida, liste (em uma tabela): **\n",
    "\n",
    "* ID do item\n",
    "* Nome do item\n",
    "* Número de compras\n",
    "* Preço do item\n",
    "* Valor Total de Compra\n",
    "* Itens mais lucrativos\n",
    "\n",
    "\n",
    "** Identifique os 5 itens mais lucrativos pelo valor total de compra e, em seguida, liste (em uma tabela): **\n",
    "\n",
    "* ID do item\n",
    "* Nome do item\n",
    "* Número de compras\n",
    "* Preço do item\n",
    "* Valor Total de Compra\n",
    "\n",
    "\n",
    "** Como considerações finais: **\n",
    "\n",
    "* Seu script deve funcionar para o conjunto de dados fornecido.\n",
    "* Você deve usar a Biblioteca Pandas e o Jupyter Notebook.\n"
   ]
  },
  {
   "cell_type": "code",
   "execution_count": 2,
   "metadata": {},
   "outputs": [],
   "source": [
    "# Imports\n",
    "import pandas as pd\n",
    "import numpy as np"
   ]
  },
  {
   "cell_type": "code",
   "execution_count": 3,
   "metadata": {},
   "outputs": [
    {
     "data": {
      "text/html": [
       "<div>\n",
       "<style scoped>\n",
       "    .dataframe tbody tr th:only-of-type {\n",
       "        vertical-align: middle;\n",
       "    }\n",
       "\n",
       "    .dataframe tbody tr th {\n",
       "        vertical-align: top;\n",
       "    }\n",
       "\n",
       "    .dataframe thead th {\n",
       "        text-align: right;\n",
       "    }\n",
       "</style>\n",
       "<table border=\"1\" class=\"dataframe\">\n",
       "  <thead>\n",
       "    <tr style=\"text-align: right;\">\n",
       "      <th></th>\n",
       "      <th>Login</th>\n",
       "      <th>Idade</th>\n",
       "      <th>Sexo</th>\n",
       "      <th>Item ID</th>\n",
       "      <th>Nome do Item</th>\n",
       "      <th>Valor</th>\n",
       "    </tr>\n",
       "  </thead>\n",
       "  <tbody>\n",
       "    <tr>\n",
       "      <th>0</th>\n",
       "      <td>Aelalis34</td>\n",
       "      <td>38</td>\n",
       "      <td>Masculino</td>\n",
       "      <td>165</td>\n",
       "      <td>Bone Crushing Silver Skewer</td>\n",
       "      <td>3.37</td>\n",
       "    </tr>\n",
       "    <tr>\n",
       "      <th>1</th>\n",
       "      <td>Eolo46</td>\n",
       "      <td>21</td>\n",
       "      <td>Masculino</td>\n",
       "      <td>119</td>\n",
       "      <td>Stormbringer, Dark Blade of Ending Misery</td>\n",
       "      <td>2.32</td>\n",
       "    </tr>\n",
       "    <tr>\n",
       "      <th>2</th>\n",
       "      <td>Assastnya25</td>\n",
       "      <td>34</td>\n",
       "      <td>Masculino</td>\n",
       "      <td>174</td>\n",
       "      <td>Primitive Blade</td>\n",
       "      <td>2.46</td>\n",
       "    </tr>\n",
       "    <tr>\n",
       "      <th>3</th>\n",
       "      <td>Pheusrical25</td>\n",
       "      <td>21</td>\n",
       "      <td>Masculino</td>\n",
       "      <td>92</td>\n",
       "      <td>Final Critic</td>\n",
       "      <td>1.36</td>\n",
       "    </tr>\n",
       "    <tr>\n",
       "      <th>4</th>\n",
       "      <td>Aela59</td>\n",
       "      <td>23</td>\n",
       "      <td>Masculino</td>\n",
       "      <td>63</td>\n",
       "      <td>Stormfury Mace</td>\n",
       "      <td>1.27</td>\n",
       "    </tr>\n",
       "    <tr>\n",
       "      <th>...</th>\n",
       "      <td>...</td>\n",
       "      <td>...</td>\n",
       "      <td>...</td>\n",
       "      <td>...</td>\n",
       "      <td>...</td>\n",
       "      <td>...</td>\n",
       "    </tr>\n",
       "    <tr>\n",
       "      <th>775</th>\n",
       "      <td>Eural50</td>\n",
       "      <td>22</td>\n",
       "      <td>Masculino</td>\n",
       "      <td>98</td>\n",
       "      <td>Deadline, Voice Of Subtlety</td>\n",
       "      <td>3.62</td>\n",
       "    </tr>\n",
       "    <tr>\n",
       "      <th>776</th>\n",
       "      <td>Lirtossa78</td>\n",
       "      <td>14</td>\n",
       "      <td>Masculino</td>\n",
       "      <td>104</td>\n",
       "      <td>Gladiator's Glaive</td>\n",
       "      <td>1.36</td>\n",
       "    </tr>\n",
       "    <tr>\n",
       "      <th>777</th>\n",
       "      <td>Tillyrin30</td>\n",
       "      <td>20</td>\n",
       "      <td>Masculino</td>\n",
       "      <td>117</td>\n",
       "      <td>Heartstriker, Legacy of the Light</td>\n",
       "      <td>4.15</td>\n",
       "    </tr>\n",
       "    <tr>\n",
       "      <th>778</th>\n",
       "      <td>Quelaton80</td>\n",
       "      <td>20</td>\n",
       "      <td>Masculino</td>\n",
       "      <td>75</td>\n",
       "      <td>Brutality Ivory Warmace</td>\n",
       "      <td>1.72</td>\n",
       "    </tr>\n",
       "    <tr>\n",
       "      <th>779</th>\n",
       "      <td>Alim85</td>\n",
       "      <td>23</td>\n",
       "      <td>Feminino</td>\n",
       "      <td>107</td>\n",
       "      <td>Splitter, Foe Of Subtlety</td>\n",
       "      <td>3.61</td>\n",
       "    </tr>\n",
       "  </tbody>\n",
       "</table>\n",
       "<p>780 rows × 6 columns</p>\n",
       "</div>"
      ],
      "text/plain": [
       "            Login  Idade       Sexo  Item ID  \\\n",
       "0       Aelalis34     38  Masculino      165   \n",
       "1          Eolo46     21  Masculino      119   \n",
       "2     Assastnya25     34  Masculino      174   \n",
       "3    Pheusrical25     21  Masculino       92   \n",
       "4          Aela59     23  Masculino       63   \n",
       "..            ...    ...        ...      ...   \n",
       "775       Eural50     22  Masculino       98   \n",
       "776    Lirtossa78     14  Masculino      104   \n",
       "777    Tillyrin30     20  Masculino      117   \n",
       "778    Quelaton80     20  Masculino       75   \n",
       "779        Alim85     23   Feminino      107   \n",
       "\n",
       "                                  Nome do Item  Valor  \n",
       "0                  Bone Crushing Silver Skewer   3.37  \n",
       "1    Stormbringer, Dark Blade of Ending Misery   2.32  \n",
       "2                              Primitive Blade   2.46  \n",
       "3                                 Final Critic   1.36  \n",
       "4                               Stormfury Mace   1.27  \n",
       "..                                         ...    ...  \n",
       "775                Deadline, Voice Of Subtlety   3.62  \n",
       "776                         Gladiator's Glaive   1.36  \n",
       "777          Heartstriker, Legacy of the Light   4.15  \n",
       "778                    Brutality Ivory Warmace   1.72  \n",
       "779                  Splitter, Foe Of Subtlety   3.61  \n",
       "\n",
       "[780 rows x 6 columns]"
      ]
     },
     "execution_count": 3,
     "metadata": {},
     "output_type": "execute_result"
    }
   ],
   "source": [
    "# Carrega o arquivo\n",
    "load_file = \"dados_compras.json\"\n",
    "purchase_file = pd.read_json(load_file, orient = \"records\")\n",
    "purchase_file"
   ]
  },
  {
   "cell_type": "markdown",
   "metadata": {},
   "source": [
    "## Informações Sobre os Consumidores"
   ]
  },
  {
   "cell_type": "code",
   "execution_count": 4,
   "metadata": {},
   "outputs": [
    {
     "data": {
      "text/html": [
       "<div>\n",
       "<style scoped>\n",
       "    .dataframe tbody tr th:only-of-type {\n",
       "        vertical-align: middle;\n",
       "    }\n",
       "\n",
       "    .dataframe tbody tr th {\n",
       "        vertical-align: top;\n",
       "    }\n",
       "\n",
       "    .dataframe thead th {\n",
       "        text-align: right;\n",
       "    }\n",
       "</style>\n",
       "<table border=\"1\" class=\"dataframe\">\n",
       "  <thead>\n",
       "    <tr style=\"text-align: right;\">\n",
       "      <th></th>\n",
       "      <th>Total de Consumidores</th>\n",
       "    </tr>\n",
       "  </thead>\n",
       "  <tbody>\n",
       "    <tr>\n",
       "      <th>0</th>\n",
       "      <td>573</td>\n",
       "    </tr>\n",
       "  </tbody>\n",
       "</table>\n",
       "</div>"
      ],
      "text/plain": [
       "   Total de Consumidores\n",
       "0                    573"
      ]
     },
     "execution_count": 4,
     "metadata": {},
     "output_type": "execute_result"
    }
   ],
   "source": [
    "# Implemente aqui sua solução\n",
    "\n",
    "# Total de Consumidores\n",
    "consumidores = purchase_file.loc[:,['Sexo','Login','Idade']]\n",
    "consumidores.head()\n",
    "# Removendo duplicatas\n",
    "consumidores = consumidores.drop_duplicates()\n",
    "total_consumidores = consumidores.count()[0]\n",
    "total_consumidores\n",
    "# Saída em formato de DataFrame para facilitar a análise\n",
    "pd.DataFrame({\"Total de Consumidores\" : [total_consumidores]})"
   ]
  },
  {
   "cell_type": "markdown",
   "metadata": {},
   "source": [
    "## Análise Geral de Compras"
   ]
  },
  {
   "cell_type": "code",
   "execution_count": 5,
   "metadata": {},
   "outputs": [
    {
     "data": {
      "text/html": [
       "<div>\n",
       "<style scoped>\n",
       "    .dataframe tbody tr th:only-of-type {\n",
       "        vertical-align: middle;\n",
       "    }\n",
       "\n",
       "    .dataframe tbody tr th {\n",
       "        vertical-align: top;\n",
       "    }\n",
       "\n",
       "    .dataframe thead th {\n",
       "        text-align: right;\n",
       "    }\n",
       "</style>\n",
       "<table border=\"1\" class=\"dataframe\">\n",
       "  <thead>\n",
       "    <tr style=\"text-align: right;\">\n",
       "      <th></th>\n",
       "      <th>Itens Exclusivos</th>\n",
       "      <th>Preço Médio de Compra</th>\n",
       "      <th>Total de Compras</th>\n",
       "      <th>Rendimento Total</th>\n",
       "    </tr>\n",
       "  </thead>\n",
       "  <tbody>\n",
       "    <tr>\n",
       "      <th>0</th>\n",
       "      <td>183</td>\n",
       "      <td>$2.93</td>\n",
       "      <td>780</td>\n",
       "      <td>$2,286.33</td>\n",
       "    </tr>\n",
       "  </tbody>\n",
       "</table>\n",
       "</div>"
      ],
      "text/plain": [
       "   Itens Exclusivos Preço Médio de Compra  Total de Compras Rendimento Total\n",
       "0               183                 $2.93               780        $2,286.33"
      ]
     },
     "execution_count": 5,
     "metadata": {},
     "output_type": "execute_result"
    }
   ],
   "source": [
    "# Implemente aqui sua solução\n",
    "\n",
    "# Total de Items Exclusivos\n",
    "items = purchase_file['Item ID']\n",
    "unique_items = len(items.unique())\n",
    "\n",
    "# Preço Médio de Compras\n",
    "avg_item_price = purchase_file['Valor'].mean()\n",
    "\n",
    "# Total de Vendas\n",
    "total_item_price = purchase_file['Valor'].sum()\n",
    "\n",
    "# Total de Compras\n",
    "total_item_count = purchase_file['Valor'].count()\n",
    "\n",
    "# Formatando os Valores\n",
    "\n",
    "\n",
    "# DataFrame\n",
    "results = pd.DataFrame({'Itens Exclusivos' : [unique_items],\n",
    "              'Preço Médio de Compra' : [avg_item_price],\n",
    "              'Total de Compras' : [total_item_count],\n",
    "              'Rendimento Total' : [total_item_price]})\n",
    "\n",
    "results['Preço Médio de Compra'] = results['Preço Médio de Compra'].map(\"${:,.2f}\".format)\n",
    "results['Rendimento Total'] = results['Rendimento Total'].map(\"${:,.2f}\".format)\n",
    "results"
   ]
  },
  {
   "cell_type": "markdown",
   "metadata": {},
   "source": [
    "## Análise Demográfica"
   ]
  },
  {
   "cell_type": "code",
   "execution_count": 6,
   "metadata": {},
   "outputs": [
    {
     "data": {
      "text/html": [
       "<div>\n",
       "<style scoped>\n",
       "    .dataframe tbody tr th:only-of-type {\n",
       "        vertical-align: middle;\n",
       "    }\n",
       "\n",
       "    .dataframe tbody tr th {\n",
       "        vertical-align: top;\n",
       "    }\n",
       "\n",
       "    .dataframe thead th {\n",
       "        text-align: right;\n",
       "    }\n",
       "</style>\n",
       "<table border=\"1\" class=\"dataframe\">\n",
       "  <thead>\n",
       "    <tr style=\"text-align: right;\">\n",
       "      <th></th>\n",
       "      <th>Compradores por Gênero</th>\n",
       "    </tr>\n",
       "  </thead>\n",
       "  <tbody>\n",
       "    <tr>\n",
       "      <th>Masculino</th>\n",
       "      <td>81.2%</td>\n",
       "    </tr>\n",
       "    <tr>\n",
       "      <th>Feminino</th>\n",
       "      <td>17.5%</td>\n",
       "    </tr>\n",
       "    <tr>\n",
       "      <th>Outro / Não Divulgado</th>\n",
       "      <td>1.4%</td>\n",
       "    </tr>\n",
       "  </tbody>\n",
       "</table>\n",
       "</div>"
      ],
      "text/plain": [
       "                      Compradores por Gênero\n",
       "Masculino                              81.2%\n",
       "Feminino                               17.5%\n",
       "Outro / Não Divulgado                   1.4%"
      ]
     },
     "execution_count": 6,
     "metadata": {},
     "output_type": "execute_result"
    }
   ],
   "source": [
    "# Implemente aqui sua solução\n",
    "gender_demographics = consumidores['Sexo'].value_counts()\n",
    "gender_count = (gender_demographics/consumidores['Sexo'].count()) * 100\n",
    "gender_count = gender_count.map(\"{:,.1f}%\".format)\n",
    "demographics_df = pd.DataFrame({\"Compradores por Gênero\":gender_count})\n",
    "demographics_df"
   ]
  },
  {
   "cell_type": "markdown",
   "metadata": {},
   "source": [
    "## Informações Demográficas Por Gênero"
   ]
  },
  {
   "cell_type": "code",
   "execution_count": 7,
   "metadata": {},
   "outputs": [],
   "source": [
    "# Implemente aqui sua solução"
   ]
  },
  {
   "cell_type": "markdown",
   "metadata": {},
   "source": [
    "## Análise de Compras Por Gênero"
   ]
  },
  {
   "cell_type": "code",
   "execution_count": 8,
   "metadata": {},
   "outputs": [
    {
     "data": {
      "text/html": [
       "<div>\n",
       "<style scoped>\n",
       "    .dataframe tbody tr th:only-of-type {\n",
       "        vertical-align: middle;\n",
       "    }\n",
       "\n",
       "    .dataframe tbody tr th {\n",
       "        vertical-align: top;\n",
       "    }\n",
       "\n",
       "    .dataframe thead th {\n",
       "        text-align: right;\n",
       "    }\n",
       "</style>\n",
       "<table border=\"1\" class=\"dataframe\">\n",
       "  <thead>\n",
       "    <tr style=\"text-align: right;\">\n",
       "      <th></th>\n",
       "      <th>Número de Compras</th>\n",
       "      <th>Preço Médio de Compra</th>\n",
       "      <th>Total de Vendas</th>\n",
       "    </tr>\n",
       "    <tr>\n",
       "      <th>Sexo</th>\n",
       "      <th></th>\n",
       "      <th></th>\n",
       "      <th></th>\n",
       "    </tr>\n",
       "  </thead>\n",
       "  <tbody>\n",
       "    <tr>\n",
       "      <th>Feminino</th>\n",
       "      <td>136</td>\n",
       "      <td>$2.82</td>\n",
       "      <td>$382.91</td>\n",
       "    </tr>\n",
       "    <tr>\n",
       "      <th>Masculino</th>\n",
       "      <td>633</td>\n",
       "      <td>$2.95</td>\n",
       "      <td>$1,867.68</td>\n",
       "    </tr>\n",
       "    <tr>\n",
       "      <th>Outro / Não Divulgado</th>\n",
       "      <td>11</td>\n",
       "      <td>$3.25</td>\n",
       "      <td>$35.74</td>\n",
       "    </tr>\n",
       "  </tbody>\n",
       "</table>\n",
       "</div>"
      ],
      "text/plain": [
       "                       Número de Compras Preço Médio de Compra Total de Vendas\n",
       "Sexo                                                                          \n",
       "Feminino                             136                 $2.82         $382.91\n",
       "Masculino                            633                 $2.95       $1,867.68\n",
       "Outro / Não Divulgado                 11                 $3.25          $35.74"
      ]
     },
     "execution_count": 8,
     "metadata": {},
     "output_type": "execute_result"
    }
   ],
   "source": [
    "# Implemente aqui sua solução\n",
    "gender_total_item_price = purchase_file.groupby(['Sexo']).sum()['Valor'].rename('Total de Vendas')\n",
    "gender_avg_item_price = purchase_file.groupby(['Sexo']).mean()['Valor'].rename('Preço Médio de Compra')\n",
    "purchase_count = purchase_file.groupby(['Sexo']).count()['Valor'].rename('Número de Compras')\n",
    "\n",
    "gender_purchasing_analysis = pd.DataFrame({\"Número de Compras\" : purchase_count,\n",
    "                                          \"Preço Médio de Compra\" : gender_avg_item_price,\n",
    "                                          \"Total de Vendas\" : gender_total_item_price})\n",
    "\n",
    "gender_purchasing_analysis['Preço Médio de Compra'] = gender_purchasing_analysis['Preço Médio de Compra'].map(\"${:,.2f}\".format)\n",
    "gender_purchasing_analysis['Total de Vendas'] = gender_purchasing_analysis['Total de Vendas'].map(\"${:,.2f}\".format)\n",
    "gender_purchasing_analysis"
   ]
  },
  {
   "cell_type": "code",
   "execution_count": 9,
   "metadata": {},
   "outputs": [
    {
     "data": {
      "text/html": [
       "<div>\n",
       "<style scoped>\n",
       "    .dataframe tbody tr th:only-of-type {\n",
       "        vertical-align: middle;\n",
       "    }\n",
       "\n",
       "    .dataframe tbody tr th {\n",
       "        vertical-align: top;\n",
       "    }\n",
       "\n",
       "    .dataframe thead th {\n",
       "        text-align: right;\n",
       "    }\n",
       "</style>\n",
       "<table border=\"1\" class=\"dataframe\">\n",
       "  <thead>\n",
       "    <tr style=\"text-align: right;\">\n",
       "      <th></th>\n",
       "      <th>Contagem</th>\n",
       "      <th>%</th>\n",
       "      <th>Valor Total da Compra</th>\n",
       "      <th>Preço Médio de Compra</th>\n",
       "      <th>Número de Compras</th>\n",
       "    </tr>\n",
       "  </thead>\n",
       "  <tbody>\n",
       "    <tr>\n",
       "      <th>Menos de 10</th>\n",
       "      <td>32</td>\n",
       "      <td>5.6%</td>\n",
       "      <td>$96.62</td>\n",
       "      <td>$3.02</td>\n",
       "      <td>32</td>\n",
       "    </tr>\n",
       "    <tr>\n",
       "      <th>10 a 15</th>\n",
       "      <td>78</td>\n",
       "      <td>13.6%</td>\n",
       "      <td>$224.15</td>\n",
       "      <td>$2.87</td>\n",
       "      <td>78</td>\n",
       "    </tr>\n",
       "    <tr>\n",
       "      <th>15 a 20</th>\n",
       "      <td>184</td>\n",
       "      <td>32.1%</td>\n",
       "      <td>$528.74</td>\n",
       "      <td>$2.87</td>\n",
       "      <td>184</td>\n",
       "    </tr>\n",
       "    <tr>\n",
       "      <th>20 a 25</th>\n",
       "      <td>305</td>\n",
       "      <td>53.2%</td>\n",
       "      <td>$902.61</td>\n",
       "      <td>$2.96</td>\n",
       "      <td>305</td>\n",
       "    </tr>\n",
       "    <tr>\n",
       "      <th>25 a 30</th>\n",
       "      <td>76</td>\n",
       "      <td>13.3%</td>\n",
       "      <td>$219.82</td>\n",
       "      <td>$2.89</td>\n",
       "      <td>76</td>\n",
       "    </tr>\n",
       "    <tr>\n",
       "      <th>30 a 35</th>\n",
       "      <td>58</td>\n",
       "      <td>10.1%</td>\n",
       "      <td>$178.26</td>\n",
       "      <td>$3.07</td>\n",
       "      <td>58</td>\n",
       "    </tr>\n",
       "    <tr>\n",
       "      <th>35 a 40</th>\n",
       "      <td>44</td>\n",
       "      <td>7.7%</td>\n",
       "      <td>$127.49</td>\n",
       "      <td>$2.90</td>\n",
       "      <td>44</td>\n",
       "    </tr>\n",
       "    <tr>\n",
       "      <th>Mais de 40</th>\n",
       "      <td>3</td>\n",
       "      <td>0.5%</td>\n",
       "      <td>$8.64</td>\n",
       "      <td>$2.88</td>\n",
       "      <td>3</td>\n",
       "    </tr>\n",
       "  </tbody>\n",
       "</table>\n",
       "</div>"
      ],
      "text/plain": [
       "             Contagem      % Valor Total da Compra Preço Médio de Compra  \\\n",
       "Menos de 10        32   5.6%                $96.62                 $3.02   \n",
       "10 a 15            78  13.6%               $224.15                 $2.87   \n",
       "15 a 20           184  32.1%               $528.74                 $2.87   \n",
       "20 a 25           305  53.2%               $902.61                 $2.96   \n",
       "25 a 30            76  13.3%               $219.82                 $2.89   \n",
       "30 a 35            58  10.1%               $178.26                 $3.07   \n",
       "35 a 40            44   7.7%               $127.49                 $2.90   \n",
       "Mais de 40          3   0.5%                 $8.64                 $2.88   \n",
       "\n",
       "             Número de Compras  \n",
       "Menos de 10                 32  \n",
       "10 a 15                     78  \n",
       "15 a 20                    184  \n",
       "20 a 25                    305  \n",
       "25 a 30                     76  \n",
       "30 a 35                     58  \n",
       "35 a 40                     44  \n",
       "Mais de 40                   3  "
      ]
     },
     "execution_count": 9,
     "metadata": {},
     "output_type": "execute_result"
    }
   ],
   "source": [
    "# FAIXA ETARIA\n",
    "purchase_file.describe()\n",
    "age_bins = [0, 10, 15, 20, 25, 30, 35, 40, 999]\n",
    "age_bracket = ['Menos de 10', '10 a 15', '15 a 20', '20 a 25', '25 a 30', '30 a 35', '35 a 40', 'Mais de 40']\n",
    "purchase_file['Range de Idades'] = pd.cut(purchase_file.Idade, age_bins, labels = age_bracket)\n",
    "\n",
    "# Calculos Demograficos\n",
    "age_count = purchase_file['Range de Idades'].value_counts()\n",
    "age_total_item_price = purchase_file.groupby(['Range de Idades']).sum()['Valor'].rename('Valor Total da Compra')\n",
    "age_avg_item_price = purchase_file.groupby(['Range de Idades']).mean()['Valor'].rename('Preço Médio de Compra')\n",
    "age_purchase_count = purchase_file.groupby(['Range de Idades']).count()['Valor'].rename('Número de Compras')\n",
    "age_percent = (age_count / total_consumidores) * 100\n",
    "\n",
    "age_results = pd.DataFrame({\"Contagem\" : age_count,\n",
    "                            \"%\" : age_percent,\n",
    "                            \"Valor Total da Compra\" : age_total_item_price,\n",
    "                           \"Preço Médio de Compra\" : age_avg_item_price,\n",
    "                           \"Número de Compras\" : age_purchase_count})\n",
    "\n",
    "age_results['%'] = age_results['%'].map(\"{:,.1f}%\".format)\n",
    "age_results['Valor Total da Compra'] = age_results['Valor Total da Compra'].map(\"${:,.2f}\".format)\n",
    "age_results['Preço Médio de Compra'] = age_results['Preço Médio de Compra'].map(\"${:,.2f}\".format)\n",
    "age_results"
   ]
  },
  {
   "cell_type": "markdown",
   "metadata": {},
   "source": [
    "## Consumidores Mais Populares (Top 5)"
   ]
  },
  {
   "cell_type": "code",
   "execution_count": 10,
   "metadata": {},
   "outputs": [
    {
     "data": {
      "text/html": [
       "<div>\n",
       "<style scoped>\n",
       "    .dataframe tbody tr th:only-of-type {\n",
       "        vertical-align: middle;\n",
       "    }\n",
       "\n",
       "    .dataframe tbody tr th {\n",
       "        vertical-align: top;\n",
       "    }\n",
       "\n",
       "    .dataframe thead th {\n",
       "        text-align: right;\n",
       "    }\n",
       "</style>\n",
       "<table border=\"1\" class=\"dataframe\">\n",
       "  <thead>\n",
       "    <tr style=\"text-align: right;\">\n",
       "      <th></th>\n",
       "      <th>Top 5 Maiores Consumidores</th>\n",
       "    </tr>\n",
       "    <tr>\n",
       "      <th>Login</th>\n",
       "      <th></th>\n",
       "    </tr>\n",
       "  </thead>\n",
       "  <tbody>\n",
       "    <tr>\n",
       "      <th>Undirrala66</th>\n",
       "      <td>$17.06</td>\n",
       "    </tr>\n",
       "    <tr>\n",
       "      <th>Saedue76</th>\n",
       "      <td>$13.56</td>\n",
       "    </tr>\n",
       "    <tr>\n",
       "      <th>Mindimnya67</th>\n",
       "      <td>$12.74</td>\n",
       "    </tr>\n",
       "    <tr>\n",
       "      <th>Haellysu29</th>\n",
       "      <td>$12.73</td>\n",
       "    </tr>\n",
       "    <tr>\n",
       "      <th>Eoda93</th>\n",
       "      <td>$11.58</td>\n",
       "    </tr>\n",
       "  </tbody>\n",
       "</table>\n",
       "</div>"
      ],
      "text/plain": [
       "            Top 5 Maiores Consumidores\n",
       "Login                                 \n",
       "Undirrala66                     $17.06\n",
       "Saedue76                        $13.56\n",
       "Mindimnya67                     $12.74\n",
       "Haellysu29                      $12.73\n",
       "Eoda93                          $11.58"
      ]
     },
     "execution_count": 10,
     "metadata": {},
     "output_type": "execute_result"
    }
   ],
   "source": [
    "# Implemente aqui sua solução\n",
    "top_players = purchase_file.groupby(['Login']).sum()['Valor'].rename('Top 5 Maiores Consumidores')\n",
    "top_players = top_players.sort_values(ascending = False)\n",
    "top_players = top_players.head()\n",
    "\n",
    "top_players_result = pd.DataFrame({\"Top 5 Maiores Consumidores\" : top_players})\n",
    "top_players_result[\"Top 5 Maiores Consumidores\"] = top_players_result['Top 5 Maiores Consumidores'].map(\"${:,.2f}\".format)\n",
    "top_players_result"
   ]
  },
  {
   "cell_type": "markdown",
   "metadata": {},
   "source": [
    "## Itens Mais Populares"
   ]
  },
  {
   "cell_type": "code",
   "execution_count": 11,
   "metadata": {},
   "outputs": [
    {
     "ename": "NameError",
     "evalue": "name 'top_items' is not defined",
     "output_type": "error",
     "traceback": [
      "\u001b[1;31m---------------------------------------------------------------------------\u001b[0m",
      "\u001b[1;31mNameError\u001b[0m                                 Traceback (most recent call last)",
      "\u001b[1;32m~\\AppData\\Local\\Temp/ipykernel_4692/2632381383.py\u001b[0m in \u001b[0;36m<module>\u001b[1;34m\u001b[0m\n\u001b[0;32m      3\u001b[0m \u001b[0mtop_items_avg\u001b[0m \u001b[1;33m=\u001b[0m \u001b[0mpurchase_file\u001b[0m\u001b[1;33m.\u001b[0m\u001b[0mgroupby\u001b[0m\u001b[1;33m(\u001b[0m\u001b[1;33m[\u001b[0m\u001b[1;34m'Nome do Item'\u001b[0m\u001b[1;33m]\u001b[0m\u001b[1;33m)\u001b[0m\u001b[1;33m.\u001b[0m\u001b[0mmean\u001b[0m\u001b[1;33m(\u001b[0m\u001b[1;33m)\u001b[0m\u001b[1;33m[\u001b[0m\u001b[1;34m'Valor'\u001b[0m\u001b[1;33m]\u001b[0m\u001b[1;33m.\u001b[0m\u001b[0mrename\u001b[0m\u001b[1;33m(\u001b[0m\u001b[1;34m'Valor Médio de Compra'\u001b[0m\u001b[1;33m)\u001b[0m\u001b[1;33m\u001b[0m\u001b[1;33m\u001b[0m\u001b[0m\n\u001b[0;32m      4\u001b[0m \u001b[0mtop_items_total\u001b[0m \u001b[1;33m=\u001b[0m \u001b[0mpurchase_file\u001b[0m\u001b[1;33m.\u001b[0m\u001b[0mgroupby\u001b[0m\u001b[1;33m(\u001b[0m\u001b[1;33m[\u001b[0m\u001b[1;34m'Nome do Item'\u001b[0m\u001b[1;33m]\u001b[0m\u001b[1;33m)\u001b[0m\u001b[1;33m.\u001b[0m\u001b[0msum\u001b[0m\u001b[1;33m(\u001b[0m\u001b[1;33m)\u001b[0m\u001b[1;33m[\u001b[0m\u001b[1;34m'Valor'\u001b[0m\u001b[1;33m]\u001b[0m\u001b[1;33m.\u001b[0m\u001b[0mrename\u001b[0m\u001b[1;33m(\u001b[0m\u001b[1;34m'Total de Compras'\u001b[0m\u001b[1;33m)\u001b[0m\u001b[1;33m\u001b[0m\u001b[1;33m\u001b[0m\u001b[0m\n\u001b[1;32m----> 5\u001b[1;33m \u001b[0mtop_items\u001b[0m \u001b[1;33m=\u001b[0m \u001b[0mtop_items\u001b[0m\u001b[1;33m.\u001b[0m\u001b[0msort_values\u001b[0m\u001b[1;33m(\u001b[0m\u001b[0mascending\u001b[0m \u001b[1;33m=\u001b[0m \u001b[1;32mFalse\u001b[0m\u001b[1;33m)\u001b[0m\u001b[1;33m\u001b[0m\u001b[1;33m\u001b[0m\u001b[0m\n\u001b[0m\u001b[0;32m      6\u001b[0m \u001b[0mtop_items\u001b[0m \u001b[1;33m=\u001b[0m \u001b[0mtop_items\u001b[0m\u001b[1;33m.\u001b[0m\u001b[0mhead\u001b[0m\u001b[1;33m(\u001b[0m\u001b[1;33m)\u001b[0m\u001b[1;33m\u001b[0m\u001b[1;33m\u001b[0m\u001b[0m\n\u001b[0;32m      7\u001b[0m \u001b[1;33m\u001b[0m\u001b[0m\n",
      "\u001b[1;31mNameError\u001b[0m: name 'top_items' is not defined"
     ]
    }
   ],
   "source": [
    "# Implemente aqui sua solução\n",
    "top_items_count = purchase_file.groupby(['Nome do Item']).count()['Valor'].rename('Número de Compras')\n",
    "top_items_avg = purchase_file.groupby(['Nome do Item']).mean()['Valor'].rename('Valor Médio de Compra')\n",
    "top_items_total = purchase_file.groupby(['Nome do Item']).sum()['Valor'].rename('Total de Compras')\n",
    "top_items = top_items.sort_values(ascending = False)\n",
    "top_items = top_items.head()\n",
    "\n",
    "top_items_result = pd.DataFrame({\"Número de Compras\" : top_items_count,\n",
    "                                \"Valor Médio de Compra\" : top_items_avg,\n",
    "                                \"Valor Total de Compras\" : top_items_total})\n",
    "\n",
    "top_items_result['Valor Médio de Compra'] = top_items_result['Valor Médio de Compra'].map(\"${:,.2f}\".format)\n",
    "top_items_result['Valor Total de Compras'] = top_items_result['Valor Total de Compras'].map(\"${:,.2f}\".format)\n",
    "\n",
    "top_items_result.sort_values(\"Número de Compras\", ascending=False).head(5)"
   ]
  },
  {
   "cell_type": "markdown",
   "metadata": {},
   "source": [
    "## Itens Mais Lucrativos"
   ]
  },
  {
   "cell_type": "code",
   "execution_count": 39,
   "metadata": {},
   "outputs": [
    {
     "data": {
      "text/plain": [
       "Nome do Item\n",
       "Abyssal Shard                      2.04\n",
       "Aetherius, Boon of the Blessed     4.75\n",
       "Agatha                             1.91\n",
       "Alpha                              1.56\n",
       "Alpha, Oath of Zeal                2.88\n",
       "                                   ... \n",
       "Wolf                               1.84\n",
       "Wolf, Promise of the Moonwalker    1.88\n",
       "Worldbreaker                       3.29\n",
       "Yearning Crusher                   1.06\n",
       "Yearning Mageblade                 1.79\n",
       "Name: Valor, Length: 179, dtype: float64"
      ]
     },
     "execution_count": 39,
     "metadata": {},
     "output_type": "execute_result"
    }
   ],
   "source": [
    "# Implemente aqui sua solução\n",
    "items_lucrativos_avg = purchase_file.groupby(['Nome do Item']).mean()['Valor']\n",
    "items_lucrativos = purchase_file.groupby(['Nome do Item']).sum()['Valor']\n",
    "items_lucrativos = items_lucrativos.sort_values(ascending=False)\n",
    "items_lucrativos = items_lucrativos.head()\n",
    "items_lucrativos_results = pd.DataFrame({'Top 5 Items Mais Lucrativos':items_lucrativos})\n",
    "items_lucrativos_results['Top 5 Items Mais Lucrativos'] = items_lucrativos_results['Top 5 Items Mais Lucrativos'].map(\"${:,.2f}\".format)\n",
    "items_lucrativos_avg"
   ]
  },
  {
   "cell_type": "markdown",
   "metadata": {
    "collapsed": true
   },
   "source": [
    "## Fim"
   ]
  },
  {
   "cell_type": "markdown",
   "metadata": {
    "collapsed": true
   },
   "source": [
    "\n",
    "### Obrigado\n",
    "\n",
    "### Visite o Blog da Data Science Academy - <a href=\"http://blog.dsacademy.com.br\">Blog DSA</a>\n"
   ]
  }
 ],
 "metadata": {
  "kernelspec": {
   "display_name": "Python 3 (ipykernel)",
   "language": "python",
   "name": "python3"
  },
  "language_info": {
   "codemirror_mode": {
    "name": "ipython",
    "version": 3
   },
   "file_extension": ".py",
   "mimetype": "text/x-python",
   "name": "python",
   "nbconvert_exporter": "python",
   "pygments_lexer": "ipython3",
   "version": "3.9.7"
  }
 },
 "nbformat": 4,
 "nbformat_minor": 2
}
